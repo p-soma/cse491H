{
 "cells": [
  {
   "cell_type": "code",
   "execution_count": 2,
   "metadata": {},
   "outputs": [],
   "source": [
    "import matplotlib.pyplot as plt\n",
    "import pandas as pd\n",
    "from ta import *\n",
    "import cse491H.load as load\n",
    "import cse491H.preproc as preproc\n",
    "import tensorflow as tf\n",
    "from tensorflow import keras\n",
    "\n",
    "pd.set_option('display.max_rows', 500)\n",
    "pd.set_option('display.max_columns', 500)\n",
    "pd.set_option('display.width', 3000)"
   ]
  },
  {
   "cell_type": "code",
   "execution_count": 4,
   "metadata": {
    "collapsed": false
   },
   "outputs": [
    {
     "data": {
      "text/html": [
       "<div>\n",
       "<style scoped>\n",
       "    .dataframe tbody tr th:only-of-type {\n",
       "        vertical-align: middle;\n",
       "    }\n",
       "\n",
       "    .dataframe tbody tr th {\n",
       "        vertical-align: top;\n",
       "    }\n",
       "\n",
       "    .dataframe thead th {\n",
       "        text-align: right;\n",
       "    }\n",
       "</style>\n",
       "<table border=\"1\" class=\"dataframe\">\n",
       "  <thead>\n",
       "    <tr style=\"text-align: right;\">\n",
       "      <th></th>\n",
       "      <th>Date</th>\n",
       "      <th>Open</th>\n",
       "      <th>High</th>\n",
       "      <th>Low</th>\n",
       "      <th>Close</th>\n",
       "      <th>Volume</th>\n",
       "      <th>NextClose</th>\n",
       "    </tr>\n",
       "  </thead>\n",
       "  <tbody>\n",
       "    <tr>\n",
       "      <th>0</th>\n",
       "      <td>2017-10-02</td>\n",
       "      <td>22423.470703</td>\n",
       "      <td>22559.380859</td>\n",
       "      <td>22416.000000</td>\n",
       "      <td>22557.599609</td>\n",
       "      <td>268530000</td>\n",
       "      <td>22641.669922</td>\n",
       "    </tr>\n",
       "    <tr>\n",
       "      <th>1</th>\n",
       "      <td>2017-10-03</td>\n",
       "      <td>22564.449219</td>\n",
       "      <td>22646.320313</td>\n",
       "      <td>22562.900391</td>\n",
       "      <td>22641.669922</td>\n",
       "      <td>238830000</td>\n",
       "      <td>22661.640625</td>\n",
       "    </tr>\n",
       "    <tr>\n",
       "      <th>2</th>\n",
       "      <td>2017-10-04</td>\n",
       "      <td>22645.669922</td>\n",
       "      <td>22685.939453</td>\n",
       "      <td>22632.800781</td>\n",
       "      <td>22661.640625</td>\n",
       "      <td>235730000</td>\n",
       "      <td>22775.390625</td>\n",
       "    </tr>\n",
       "    <tr>\n",
       "      <th>3</th>\n",
       "      <td>2017-10-05</td>\n",
       "      <td>22669.080078</td>\n",
       "      <td>22777.039063</td>\n",
       "      <td>22655.140625</td>\n",
       "      <td>22775.390625</td>\n",
       "      <td>246400000</td>\n",
       "      <td>22773.669922</td>\n",
       "    </tr>\n",
       "    <tr>\n",
       "      <th>4</th>\n",
       "      <td>2017-10-06</td>\n",
       "      <td>22762.029297</td>\n",
       "      <td>22773.669922</td>\n",
       "      <td>22730.849609</td>\n",
       "      <td>22773.669922</td>\n",
       "      <td>221450000</td>\n",
       "      <td>22761.070313</td>\n",
       "    </tr>\n",
       "  </tbody>\n",
       "</table>\n",
       "</div>"
      ],
      "text/plain": [
       "<div>\n",
       "<style scoped>\n",
       "    .dataframe tbody tr th:only-of-type {\n",
       "        vertical-align: middle;\n",
       "    }\n",
       "\n",
       "    .dataframe tbody tr th {\n",
       "        vertical-align: top;\n",
       "    }\n",
       "\n",
       "    .dataframe thead th {\n",
       "        text-align: right;\n",
       "    }\n",
       "</style>\n",
       "<table border=\"1\" class=\"dataframe\">\n",
       "  <thead>\n",
       "    <tr style=\"text-align: right;\">\n",
       "      <th></th>\n",
       "      <th>Date</th>\n",
       "      <th>Open</th>\n",
       "      <th>High</th>\n",
       "      <th>Low</th>\n",
       "      <th>Close</th>\n",
       "      <th>Volume</th>\n",
       "      <th>NextClose</th>\n",
       "    </tr>\n",
       "  </thead>\n",
       "  <tbody>\n",
       "    <tr>\n",
       "      <th>0</th>\n",
       "      <td>2017-10-02</td>\n",
       "      <td>22423.470703</td>\n",
       "      <td>22559.380859</td>\n",
       "      <td>22416.000000</td>\n",
       "      <td>22557.599609</td>\n",
       "      <td>268530000</td>\n",
       "      <td>22641.669922</td>\n",
       "    </tr>\n",
       "    <tr>\n",
       "      <th>1</th>\n",
       "      <td>2017-10-03</td>\n",
       "      <td>22564.449219</td>\n",
       "      <td>22646.320313</td>\n",
       "      <td>22562.900391</td>\n",
       "      <td>22641.669922</td>\n",
       "      <td>238830000</td>\n",
       "      <td>22661.640625</td>\n",
       "    </tr>\n",
       "    <tr>\n",
       "      <th>2</th>\n",
       "      <td>2017-10-04</td>\n",
       "      <td>22645.669922</td>\n",
       "      <td>22685.939453</td>\n",
       "      <td>22632.800781</td>\n",
       "      <td>22661.640625</td>\n",
       "      <td>235730000</td>\n",
       "      <td>22775.390625</td>\n",
       "    </tr>\n",
       "    <tr>\n",
       "      <th>3</th>\n",
       "      <td>2017-10-05</td>\n",
       "      <td>22669.080078</td>\n",
       "      <td>22777.039063</td>\n",
       "      <td>22655.140625</td>\n",
       "      <td>22775.390625</td>\n",
       "      <td>246400000</td>\n",
       "      <td>22773.669922</td>\n",
       "    </tr>\n",
       "    <tr>\n",
       "      <th>4</th>\n",
       "      <td>2017-10-06</td>\n",
       "      <td>22762.029297</td>\n",
       "      <td>22773.669922</td>\n",
       "      <td>22730.849609</td>\n",
       "      <td>22773.669922</td>\n",
       "      <td>221450000</td>\n",
       "      <td>22761.070313</td>\n",
       "    </tr>\n",
       "  </tbody>\n",
       "</table>\n",
       "</div>"
      ]
     },
     "execution_count": 4,
     "metadata": {},
     "output_type": "execute_result"
    }
   ],
   "source": [
    "# load the data\n",
    "df = load.load_basic()\n",
    "df = preproc.shifted_price_col(df,'NextClose',-1)\n",
    "df.head()"
   ]
  },
  {
   "cell_type": "code",
   "execution_count": 5,
   "metadata": {},
   "outputs": [],
   "source": [
    "train, test = preproc.train_test(df)"
   ]
  },
  {
   "cell_type": "code",
   "execution_count": 6,
   "metadata": {},
   "outputs": [
    {
     "name": "stderr",
     "output_type": "stream",
     "text": [
      "/Users/paulsoma/anaconda3/envs/cse491H/lib/python3.6/site-packages/sklearn/preprocessing/data.py:323: DataConversionWarning: Data with input dtype int64, float64 were all converted to float64 by MinMaxScaler.\n  return self.partial_fit(X, y)\n"
     ]
    },
    {
     "data": {
      "text/html": [
       "<div>\n",
       "<style scoped>\n",
       "    .dataframe tbody tr th:only-of-type {\n",
       "        vertical-align: middle;\n",
       "    }\n",
       "\n",
       "    .dataframe tbody tr th {\n",
       "        vertical-align: top;\n",
       "    }\n",
       "\n",
       "    .dataframe thead th {\n",
       "        text-align: right;\n",
       "    }\n",
       "</style>\n",
       "<table border=\"1\" class=\"dataframe\">\n",
       "  <thead>\n",
       "    <tr style=\"text-align: right;\">\n",
       "      <th></th>\n",
       "      <th>Open</th>\n",
       "      <th>High</th>\n",
       "      <th>Low</th>\n",
       "      <th>Close</th>\n",
       "      <th>Volume</th>\n",
       "      <th>NextClose</th>\n",
       "    </tr>\n",
       "  </thead>\n",
       "  <tbody>\n",
       "    <tr>\n",
       "      <th>63</th>\n",
       "      <td>0.394249</td>\n",
       "      <td>0.331242</td>\n",
       "      <td>0.452042</td>\n",
       "      <td>0.418617</td>\n",
       "      <td>0.271758</td>\n",
       "      <td>0.450616</td>\n",
       "    </tr>\n",
       "    <tr>\n",
       "      <th>64</th>\n",
       "      <td>0.408275</td>\n",
       "      <td>0.360904</td>\n",
       "      <td>0.479171</td>\n",
       "      <td>0.450616</td>\n",
       "      <td>0.446213</td>\n",
       "      <td>0.500057</td>\n",
       "    </tr>\n",
       "    <tr>\n",
       "      <th>65</th>\n",
       "      <td>0.447321</td>\n",
       "      <td>0.423501</td>\n",
       "      <td>0.523728</td>\n",
       "      <td>0.500057</td>\n",
       "      <td>0.365501</td>\n",
       "      <td>0.571644</td>\n",
       "    </tr>\n",
       "    <tr>\n",
       "      <th>66</th>\n",
       "      <td>0.498534</td>\n",
       "      <td>0.497466</td>\n",
       "      <td>0.571852</td>\n",
       "      <td>0.571644</td>\n",
       "      <td>0.297234</td>\n",
       "      <td>0.567470</td>\n",
       "    </tr>\n",
       "    <tr>\n",
       "      <th>67</th>\n",
       "      <td>0.564566</td>\n",
       "      <td>0.502122</td>\n",
       "      <td>0.611776</td>\n",
       "      <td>0.567470</td>\n",
       "      <td>0.272150</td>\n",
       "      <td>0.600809</td>\n",
       "    </tr>\n",
       "  </tbody>\n",
       "</table>\n",
       "</div>"
      ],
      "text/plain": [
       "<div>\n",
       "<style scoped>\n",
       "    .dataframe tbody tr th:only-of-type {\n",
       "        vertical-align: middle;\n",
       "    }\n",
       "\n",
       "    .dataframe tbody tr th {\n",
       "        vertical-align: top;\n",
       "    }\n",
       "\n",
       "    .dataframe thead th {\n",
       "        text-align: right;\n",
       "    }\n",
       "</style>\n",
       "<table border=\"1\" class=\"dataframe\">\n",
       "  <thead>\n",
       "    <tr style=\"text-align: right;\">\n",
       "      <th></th>\n",
       "      <th>Open</th>\n",
       "      <th>High</th>\n",
       "      <th>Low</th>\n",
       "      <th>Close</th>\n",
       "      <th>Volume</th>\n",
       "      <th>NextClose</th>\n",
       "    </tr>\n",
       "  </thead>\n",
       "  <tbody>\n",
       "    <tr>\n",
       "      <th>63</th>\n",
       "      <td>0.394249</td>\n",
       "      <td>0.331242</td>\n",
       "      <td>0.452042</td>\n",
       "      <td>0.418617</td>\n",
       "      <td>0.271758</td>\n",
       "      <td>0.450616</td>\n",
       "    </tr>\n",
       "    <tr>\n",
       "      <th>64</th>\n",
       "      <td>0.408275</td>\n",
       "      <td>0.360904</td>\n",
       "      <td>0.479171</td>\n",
       "      <td>0.450616</td>\n",
       "      <td>0.446213</td>\n",
       "      <td>0.500057</td>\n",
       "    </tr>\n",
       "    <tr>\n",
       "      <th>65</th>\n",
       "      <td>0.447321</td>\n",
       "      <td>0.423501</td>\n",
       "      <td>0.523728</td>\n",
       "      <td>0.500057</td>\n",
       "      <td>0.365501</td>\n",
       "      <td>0.571644</td>\n",
       "    </tr>\n",
       "    <tr>\n",
       "      <th>66</th>\n",
       "      <td>0.498534</td>\n",
       "      <td>0.497466</td>\n",
       "      <td>0.571852</td>\n",
       "      <td>0.571644</td>\n",
       "      <td>0.297234</td>\n",
       "      <td>0.567470</td>\n",
       "    </tr>\n",
       "    <tr>\n",
       "      <th>67</th>\n",
       "      <td>0.564566</td>\n",
       "      <td>0.502122</td>\n",
       "      <td>0.611776</td>\n",
       "      <td>0.567470</td>\n",
       "      <td>0.272150</td>\n",
       "      <td>0.600809</td>\n",
       "    </tr>\n",
       "  </tbody>\n",
       "</table>\n",
       "</div>"
      ]
     },
     "execution_count": 6,
     "metadata": {},
     "output_type": "execute_result"
    }
   ],
   "source": [
    "# normalize \n",
    "train = train.drop(\"Date\",axis=1)\n",
    "test = test.drop(\"Date\",axis=1)\n",
    "\n",
    "scaler, train_scaled, test_scaled = preproc.scale(train,test)\n",
    "\n",
    "train_scaled.head()"
   ]
  },
  {
   "cell_type": "code",
   "execution_count": 22,
   "metadata": {},
   "outputs": [
    {
     "name": "stdout",
     "output_type": "stream",
     "text": [
      "        Open      High       Low     Close    Volume\n63  0.394249  0.331242  0.452042  0.418617  0.271758\n64  0.408275  0.360904  0.479171  0.450616  0.446213\n65  0.447321  0.423501  0.523728  0.500057  0.365501\n66  0.498534  0.497466  0.571852  0.571644  0.297234\n67  0.564566  0.502122  0.611776  0.567470  0.272150\n\n\n63    0.450616\n64    0.500057\n65    0.571644\n66    0.567470\n67    0.600809\nName: NextClose, dtype: float64\n"
     ]
    }
   ],
   "source": [
    "X_train = train_scaled.drop('NextClose', axis=1)\n",
    "y_train = train_scaled['NextClose']\n",
    "\n",
    "X_test = test_scaled.drop('NextClose', axis=1)\n",
    "y_test = test_scaled['NextClose']\n",
    "\n",
    "print(X_train.head())\n",
    "print('\\n')\n",
    "print(y_train.head())"
   ]
  },
  {
   "cell_type": "code",
   "execution_count": 11,
   "metadata": {},
   "outputs": [],
   "source": [
    "def plot_history(history, metric, figname=None):\n",
    "    \n",
    "    plt.figure()\n",
    "    \n",
    "    train_mae = np.array(history.history[metric])\n",
    "    val_mae = np.array(history.history['val_' + metric])\n",
    "    \n",
    "    \n",
    "    train_label = 'Training '\n",
    "    val_label = 'Validation '\n",
    "    \n",
    "    plt.plot(history.epoch, train_mae,\n",
    "           label=train_label)\n",
    "    plt.plot(history.epoch, val_mae,\n",
    "           label = val_label)\n",
    "    \n",
    "    ymin = np.min([np.min(train_mae), np.min(val_mae), 0])\n",
    "    ymax = np.max([np.max(train_mae), np.max(val_mae)])\n",
    "   \n",
    "    plt.ylim([ymin, ymax])\n",
    "    \n",
    "    plt.title(metric)\n",
    "    plt.xlabel('Epoch')\n",
    "    plt.ylabel(metric)\n",
    "    \n",
    "    plt.legend()\n",
    "    \n",
    "    if figname is not None:\n",
    "        plt.savefig(figname)\n",
    "\n",
    "\n",
    "def construct_model_1(input_shape):\n",
    "\n",
    "    model = keras.Sequential([\n",
    "        keras.layers.Dense(64, activation=tf.nn.relu,\n",
    "                           input_shape=(input_shape,)),\n",
    "        keras.layers.BatchNormalization(),\n",
    "        keras.layers.Dense(64, activation=tf.nn.relu),\n",
    "        keras.layers.Dense(1)\n",
    "    ])\n",
    "\n",
    "    optimizer = tf.train.AdamOptimizer(0.001)\n",
    "\n",
    "    model.compile(loss='mae',\n",
    "                  optimizer=optimizer,\n",
    "                  metrics=['mae','mse'])\n",
    "    return model\n",
    "\n",
    "def construct_model_2(input_shape):\n",
    "    model = keras.Sequential([\n",
    "        keras.layers.Dense(128, activation=tf.nn.relu,\n",
    "                           input_shape=(input_shape,)),\n",
    "        keras.layers.BatchNormalization(),\n",
    "        keras.layers.Dense(64, activation=tf.nn.relu),\n",
    "        keras.layers.BatchNormalization(),\n",
    "        keras.layers.Dense(32, activation=tf.nn.relu),\n",
    "        keras.layers.BatchNormalization(),\n",
    "        keras.layers.Dense(16, activation=tf.nn.relu),\n",
    "        keras.layers.BatchNormalization(),\n",
    "        keras.layers.Dense(8, activation=tf.nn.relu),\n",
    "        keras.layers.Dense(1)\n",
    "    ])\n",
    "    \n",
    "    optimizer = tf.train.AdamOptimizer(0.001)\n",
    "    \n",
    "    model.compile(loss='mse',\n",
    "                optimizer=optimizer,\n",
    "                metrics=['mse','mae'])\n",
    "    return model\n",
    "\n"
   ]
  },
  {
   "cell_type": "code",
   "execution_count": 19,
   "metadata": {},
   "outputs": [
    {
     "name": "stdout",
     "output_type": "stream",
     "text": [
      "\n....................."
     ]
    },
    {
     "name": "stdout",
     "output_type": "stream",
     "text": [
      "........................"
     ]
    },
    {
     "name": "stdout",
     "output_type": "stream",
     "text": [
      ".................."
     ]
    },
    {
     "name": "stdout",
     "output_type": "stream",
     "text": [
      "................."
     ]
    },
    {
     "name": "stdout",
     "output_type": "stream",
     "text": [
      "..................."
     ]
    },
    {
     "name": "stdout",
     "output_type": "stream",
     "text": [
      ".\n....................."
     ]
    },
    {
     "name": "stdout",
     "output_type": "stream",
     "text": [
      "...................."
     ]
    },
    {
     "name": "stdout",
     "output_type": "stream",
     "text": [
      ".........................."
     ]
    },
    {
     "name": "stdout",
     "output_type": "stream",
     "text": [
      "........................"
     ]
    },
    {
     "name": "stdout",
     "output_type": "stream",
     "text": [
      ".........\n..............."
     ]
    },
    {
     "name": "stdout",
     "output_type": "stream",
     "text": [
      "........................"
     ]
    },
    {
     "name": "stdout",
     "output_type": "stream",
     "text": [
      "........................."
     ]
    },
    {
     "name": "stdout",
     "output_type": "stream",
     "text": [
      ".........................."
     ]
    },
    {
     "name": "stdout",
     "output_type": "stream",
     "text": [
      "..........\n..............."
     ]
    },
    {
     "name": "stdout",
     "output_type": "stream",
     "text": [
      "........................"
     ]
    },
    {
     "name": "stdout",
     "output_type": "stream",
     "text": [
      ".............................."
     ]
    },
    {
     "name": "stdout",
     "output_type": "stream",
     "text": [
      "............................."
     ]
    },
    {
     "name": "stdout",
     "output_type": "stream",
     "text": [
      "..\n.........................."
     ]
    },
    {
     "name": "stdout",
     "output_type": "stream",
     "text": [
      "..........."
     ]
    },
    {
     "name": "stdout",
     "output_type": "stream",
     "text": [
      "........................"
     ]
    },
    {
     "name": "stdout",
     "output_type": "stream",
     "text": [
      "............................"
     ]
    },
    {
     "name": "stdout",
     "output_type": "stream",
     "text": [
      "...........\n............."
     ]
    },
    {
     "name": "stdout",
     "output_type": "stream",
     "text": [
      "......................."
     ]
    },
    {
     "name": "stdout",
     "output_type": "stream",
     "text": [
      "..........................."
     ]
    },
    {
     "name": "stdout",
     "output_type": "stream",
     "text": [
      "......................"
     ]
    },
    {
     "name": "stdout",
     "output_type": "stream",
     "text": [
      "...............\n............"
     ]
    },
    {
     "name": "stdout",
     "output_type": "stream",
     "text": [
      "......................."
     ]
    },
    {
     "name": "stdout",
     "output_type": "stream",
     "text": [
      "..........................."
     ]
    },
    {
     "name": "stdout",
     "output_type": "stream",
     "text": [
      "........................."
     ]
    },
    {
     "name": "stdout",
     "output_type": "stream",
     "text": [
      ".............\n.........."
     ]
    },
    {
     "name": "stdout",
     "output_type": "stream",
     "text": [
      "...................."
     ]
    },
    {
     "name": "stdout",
     "output_type": "stream",
     "text": [
      "........................."
     ]
    },
    {
     "name": "stdout",
     "output_type": "stream",
     "text": [
      "........................."
     ]
    },
    {
     "name": "stdout",
     "output_type": "stream",
     "text": [
      "....................\n......"
     ]
    },
    {
     "name": "stdout",
     "output_type": "stream",
     "text": [
      "....................."
     ]
    },
    {
     "name": "stdout",
     "output_type": "stream",
     "text": [
      ".............."
     ]
    },
    {
     "name": "stdout",
     "output_type": "stream",
     "text": [
      "............"
     ]
    },
    {
     "name": "stdout",
     "output_type": "stream",
     "text": [
      "..............."
     ]
    },
    {
     "name": "stdout",
     "output_type": "stream",
     "text": [
      "........................"
     ]
    },
    {
     "name": "stdout",
     "output_type": "stream",
     "text": [
      "........\n...................."
     ]
    },
    {
     "name": "stdout",
     "output_type": "stream",
     "text": [
      ".........................."
     ]
    },
    {
     "name": "stdout",
     "output_type": "stream",
     "text": [
      ".............................."
     ]
    },
    {
     "name": "stdout",
     "output_type": "stream",
     "text": [
      "........................"
     ]
    }
   ],
   "source": [
    "model = construct_model_2(X_train.shape[1])\n",
    "\n",
    "EPOCHS = 1000\n",
    "\n",
    "# callbacks\n",
    "class PrintPct(keras.callbacks.Callback):    \n",
    "    def on_epoch_end(self, epoch, logs):\n",
    "        if epoch % 100 == 0: print('')\n",
    "        print('.', end='')\n",
    "\n",
    "\n",
    "history = model.fit(X_train, y_train, epochs=EPOCHS,\n",
    "                    validation_split=0.2, verbose=0,\n",
    "                    callbacks=[PrintPct()])"
   ]
  },
  {
   "cell_type": "code",
   "execution_count": 20,
   "metadata": {},
   "outputs": [
    {
     "data": {
      "image/png": "[encoded data removed]",
      "text/plain": [
       "<Figure size 432x288 with 1 Axes>"
      ]
     },
     "metadata": {},
     "output_type": "display_data"
    }
   ],
   "source": [
    "plot_history(history,'mean_squared_error','model_2_error_batch_norm')"
   ]
  },
  {
   "cell_type": "code",
   "execution_count": 23,
   "metadata": {},
   "outputs": [],
   "source": [
    "metric_keys = model.metrics_names\n",
    "test_metric_vals = model.evaluate(X_test, y_test, verbose=0)\n",
    "\n",
    "test_metrics = dict(zip(metric_keys, test_metric_vals))\n",
    "y_test_pred = model.predict(X_test)"
   ]
  },
  {
   "cell_type": "code",
   "execution_count": 24,
   "metadata": {},
   "outputs": [
    {
     "data": {
      "text/html": [
       "<div>\n",
       "<style scoped>\n",
       "    .dataframe tbody tr th:only-of-type {\n",
       "        vertical-align: middle;\n",
       "    }\n",
       "\n",
       "    .dataframe tbody tr th {\n",
       "        vertical-align: top;\n",
       "    }\n",
       "\n",
       "    .dataframe thead th {\n",
       "        text-align: right;\n",
       "    }\n",
       "</style>\n",
       "<table border=\"1\" class=\"dataframe\">\n",
       "  <thead>\n",
       "    <tr style=\"text-align: right;\">\n",
       "      <th></th>\n",
       "      <th>Open</th>\n",
       "      <th>High</th>\n",
       "      <th>Low</th>\n",
       "      <th>Close</th>\n",
       "      <th>Volume</th>\n",
       "      <th>NextClose</th>\n",
       "    </tr>\n",
       "  </thead>\n",
       "  <tbody>\n",
       "    <tr>\n",
       "      <th>209</th>\n",
       "      <td>0.616860</td>\n",
       "      <td>0.569592</td>\n",
       "      <td>0.625659</td>\n",
       "      <td>0.583951</td>\n",
       "      <td>0.233672</td>\n",
       "      <td>0.577433</td>\n",
       "    </tr>\n",
       "    <tr>\n",
       "      <th>210</th>\n",
       "      <td>0.546836</td>\n",
       "      <td>0.520625</td>\n",
       "      <td>0.574459</td>\n",
       "      <td>0.581467</td>\n",
       "      <td>0.221334</td>\n",
       "      <td>0.595520</td>\n",
       "    </tr>\n",
       "    <tr>\n",
       "      <th>211</th>\n",
       "      <td>0.582302</td>\n",
       "      <td>0.561616</td>\n",
       "      <td>0.640817</td>\n",
       "      <td>0.625709</td>\n",
       "      <td>0.117741</td>\n",
       "      <td>0.588826</td>\n",
       "    </tr>\n",
       "    <tr>\n",
       "      <th>212</th>\n",
       "      <td>0.608601</td>\n",
       "      <td>0.589137</td>\n",
       "      <td>0.659003</td>\n",
       "      <td>0.638551</td>\n",
       "      <td>0.117696</td>\n",
       "      <td>0.593244</td>\n",
       "    </tr>\n",
       "    <tr>\n",
       "      <th>213</th>\n",
       "      <td>0.647582</td>\n",
       "      <td>0.647407</td>\n",
       "      <td>0.714092</td>\n",
       "      <td>0.679651</td>\n",
       "      <td>0.119084</td>\n",
       "      <td>0.618104</td>\n",
       "    </tr>\n",
       "  </tbody>\n",
       "</table>\n",
       "</div>"
      ],
      "text/plain": [
       "<div>\n",
       "<style scoped>\n",
       "    .dataframe tbody tr th:only-of-type {\n",
       "        vertical-align: middle;\n",
       "    }\n",
       "\n",
       "    .dataframe tbody tr th {\n",
       "        vertical-align: top;\n",
       "    }\n",
       "\n",
       "    .dataframe thead th {\n",
       "        text-align: right;\n",
       "    }\n",
       "</style>\n",
       "<table border=\"1\" class=\"dataframe\">\n",
       "  <thead>\n",
       "    <tr style=\"text-align: right;\">\n",
       "      <th></th>\n",
       "      <th>Open</th>\n",
       "      <th>High</th>\n",
       "      <th>Low</th>\n",
       "      <th>Close</th>\n",
       "      <th>Volume</th>\n",
       "      <th>NextClose</th>\n",
       "    </tr>\n",
       "  </thead>\n",
       "  <tbody>\n",
       "    <tr>\n",
       "      <th>209</th>\n",
       "      <td>0.616860</td>\n",
       "      <td>0.569592</td>\n",
       "      <td>0.625659</td>\n",
       "      <td>0.583951</td>\n",
       "      <td>0.233672</td>\n",
       "      <td>0.577433</td>\n",
       "    </tr>\n",
       "    <tr>\n",
       "      <th>210</th>\n",
       "      <td>0.546836</td>\n",
       "      <td>0.520625</td>\n",
       "      <td>0.574459</td>\n",
       "      <td>0.581467</td>\n",
       "      <td>0.221334</td>\n",
       "      <td>0.595520</td>\n",
       "    </tr>\n",
       "    <tr>\n",
       "      <th>211</th>\n",
       "      <td>0.582302</td>\n",
       "      <td>0.561616</td>\n",
       "      <td>0.640817</td>\n",
       "      <td>0.625709</td>\n",
       "      <td>0.117741</td>\n",
       "      <td>0.588826</td>\n",
       "    </tr>\n",
       "    <tr>\n",
       "      <th>212</th>\n",
       "      <td>0.608601</td>\n",
       "      <td>0.589137</td>\n",
       "      <td>0.659003</td>\n",
       "      <td>0.638551</td>\n",
       "      <td>0.117696</td>\n",
       "      <td>0.593244</td>\n",
       "    </tr>\n",
       "    <tr>\n",
       "      <th>213</th>\n",
       "      <td>0.647582</td>\n",
       "      <td>0.647407</td>\n",
       "      <td>0.714092</td>\n",
       "      <td>0.679651</td>\n",
       "      <td>0.119084</td>\n",
       "      <td>0.618104</td>\n",
       "    </tr>\n",
       "  </tbody>\n",
       "</table>\n",
       "</div>"
      ]
     },
     "execution_count": 24,
     "metadata": {},
     "output_type": "execute_result"
    }
   ],
   "source": [
    "# recombine test X and y to rescale with same scaler\n",
    "\n",
    "Xy_test = X_test\n",
    "Xy_test['NextClose'] = y_test_pred\n",
    "Xy_test.head()"
   ]
  },
  {
   "cell_type": "code",
   "execution_count": 25,
   "metadata": {
    "collapsed": true
   },
   "outputs": [],
   "source": [
    "# rescaled X_test\n",
    "test_resc = scaler.inverse_transform(Xy_test)\n",
    "\n",
    "cols = test.columns\n",
    "\n",
    "test_resc = pd.DataFrame(test_resc, columns=cols, index=Xy_test.index)\n",
    "\n",
    "usd_err = np.abs(test.NextClose - test_resc.NextClose)"
   ]
  },
  {
   "cell_type": "code",
   "execution_count": 26,
   "metadata": {},
   "outputs": [],
   "source": [
    "def plot_prediction(actual, predicted, figname=None):\n",
    "    \"\"\"\n",
    "    \n",
    "    :param actual: actual next day closing price in USD\n",
    "    :param predicted: predicted next day closing price in USd\n",
    "    :return: \n",
    "    \"\"\"\n",
    "    plt.figure()\n",
    "    \n",
    "    plt.title('')\n",
    "    \n",
    "    xvals = range(actual.shape[0])\n",
    "    \n",
    "    plt.plot(xvals, actual,\n",
    "           label='Actual')\n",
    "    plt.plot(xvals, predicted,\n",
    "           label = 'Predicted')\n",
    "    \n",
    "    ymin = np.min([np.min(actual), np.min(predicted)]) - 500\n",
    "    ymax = np.max([np.max(actual), np.max(predicted)]) + 500\n",
    "   \n",
    "    plt.ylim([ymin, ymax])\n",
    "    \n",
    "    plt.title('Closing Price')\n",
    "    plt.xlabel('t')\n",
    "    plt.ylabel('$USD')\n",
    "    \n",
    "    plt.legend()\n",
    "    \n",
    "    if figname is not None:\n",
    "        plt.savefig(figname)\n",
    "    "
   ]
  },
  {
   "cell_type": "code",
   "execution_count": 27,
   "metadata": {},
   "outputs": [
    {
     "data": {
      "image/png": "[encoded data removed]",
      "text/plain": [
       "<Figure size 432x288 with 1 Axes>"
      ]
     },
     "metadata": {},
     "output_type": "display_data"
    }
   ],
   "source": [
    "plot_prediction(test.NextClose, test_resc.NextClose, \n",
    "                figname='price_batch_norm')"
   ]
  },
  {
   "cell_type": "code",
   "execution_count": 23,
   "metadata": {},
   "outputs": [],
   "source": [
    "a = None\n",
    "\n",
    "if a is not None:\n",
    "    print('1')"
   ]
  },
  {
   "cell_type": "code",
   "execution_count": 30,
   "metadata": {},
   "outputs": [
    {
     "data": {
      "text/plain": [
       "(251, 7)"
      ]
     },
     "execution_count": 30,
     "metadata": {},
     "output_type": "execute_result"
    }
   ],
   "source": [
    "df.shape"
   ]
  },
  {
   "cell_type": "code",
   "execution_count": 31,
   "metadata": {},
   "outputs": [
    {
     "data": {
      "text/plain": [
       "(41, 6)"
      ]
     },
     "execution_count": 31,
     "metadata": {},
     "output_type": "execute_result"
    }
   ],
   "source": [
    "test.shape"
   ]
  },
  {
   "cell_type": "code",
   "execution_count": 32,
   "metadata": {},
   "outputs": [
    {
     "data": {
      "text/plain": [
       "(146, 6)"
      ]
     },
     "execution_count": 32,
     "metadata": {},
     "output_type": "execute_result"
    }
   ],
   "source": [
    "train.shape"
   ]
  },
  {
   "cell_type": "code",
   "execution_count": 34,
   "metadata": {},
   "outputs": [
    {
     "data": {
      "text/plain": [
       "0.2808219178082192"
      ]
     },
     "execution_count": 34,
     "metadata": {},
     "output_type": "execute_result"
    }
   ],
   "source": [
    ""
   ]
  },
  {
   "cell_type": "code",
   "execution_count": null,
   "metadata": {},
   "outputs": [],
   "source": []
  }
 ],
 "metadata": {
  "kernelspec": {
   "display_name": "Python 3",
   "language": "python",
   "name": "python3"
  },
  "language_info": {
   "codemirror_mode": {
    "name": "ipython",
    "version": 3
   },
   "file_extension": ".py",
   "mimetype": "text/x-python",
   "name": "python",
   "nbconvert_exporter": "python",
   "pygments_lexer": "ipython3",
   "version": "3.6.7"
  }
 },
 "nbformat": 4,
 "nbformat_minor": 2
}
