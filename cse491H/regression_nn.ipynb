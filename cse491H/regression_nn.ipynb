{
 "cells": [
  {
   "cell_type": "code",
   "execution_count": 1,
   "metadata": {},
   "outputs": [],
   "source": [
    "import matplotlib.pyplot as plt\n",
    "import pandas as pd\n",
    "from ta import *\n",
    "import cse491H.load as load\n",
    "import cse491H.preproc as preproc\n",
    "import tensorflow as tf\n",
    "from tensorflow import keras\n",
    "from copy import deepcopy \n",
    "\n",
    "pd.set_option('display.max_rows', 500)\n",
    "pd.set_option('display.max_columns', 500)\n",
    "pd.set_option('display.width', 3000)"
   ]
  },
  {
   "cell_type": "code",
   "execution_count": 2,
   "metadata": {
    "collapsed": false
   },
   "outputs": [
    {
     "data": {
      "text/plain": [
       "array([[Timestamp('2017-10-02 00:00:00'), 22423.470703, 22559.380859,\n        22416.0, 22557.599609, 268530000, 22641.669922],\n       [Timestamp('2017-10-03 00:00:00'), 22564.449219, 22646.320313,\n        22562.900391, 22641.669922, 238830000, 22661.640625],\n       [Timestamp('2017-10-04 00:00:00'), 22645.669922, 22685.939453,\n        22632.800781, 22661.640625, 235730000, 22775.390625],\n       [Timestamp('2017-10-05 00:00:00'), 22669.080078, 22777.039063,\n        22655.140625, 22775.390625, 246400000, 22773.669922],\n       [Timestamp('2017-10-06 00:00:00'), 22762.029297, 22773.669922,\n        22730.849609, 22773.669922, 221450000, 22761.070313]],\n      dtype=object)"
      ]
     },
     "execution_count": 2,
     "metadata": {},
     "output_type": "execute_result"
    }
   ],
   "source": [
    "# load the data\n",
    "df = load.load_basic()\n",
    "df = preproc.shifted_price_col(df,'NextClose',-1)\n",
    "df.head().values"
   ]
  },
  {
   "cell_type": "code",
   "execution_count": 3,
   "metadata": {},
   "outputs": [],
   "source": [
    "train, test = preproc.train_test(df)"
   ]
  },
  {
   "cell_type": "code",
   "execution_count": 4,
   "metadata": {},
   "outputs": [
    {
     "name": "stderr",
     "output_type": "stream",
     "text": [
      "/Users/paulsoma/anaconda3/envs/cse491H/lib/python3.6/site-packages/sklearn/preprocessing/data.py:323: DataConversionWarning: Data with input dtype int64, float64 were all converted to float64 by MinMaxScaler.\n  return self.partial_fit(X, y)\n"
     ]
    },
    {
     "data": {
      "text/html": [
       "<div>\n",
       "<style scoped>\n",
       "    .dataframe tbody tr th:only-of-type {\n",
       "        vertical-align: middle;\n",
       "    }\n",
       "\n",
       "    .dataframe tbody tr th {\n",
       "        vertical-align: top;\n",
       "    }\n",
       "\n",
       "    .dataframe thead th {\n",
       "        text-align: right;\n",
       "    }\n",
       "</style>\n",
       "<table border=\"1\" class=\"dataframe\">\n",
       "  <thead>\n",
       "    <tr style=\"text-align: right;\">\n",
       "      <th></th>\n",
       "      <th>Open</th>\n",
       "      <th>High</th>\n",
       "      <th>Low</th>\n",
       "      <th>Close</th>\n",
       "      <th>Volume</th>\n",
       "      <th>NextClose</th>\n",
       "    </tr>\n",
       "  </thead>\n",
       "  <tbody>\n",
       "    <tr>\n",
       "      <th>63</th>\n",
       "      <td>0.394249</td>\n",
       "      <td>0.331242</td>\n",
       "      <td>0.452042</td>\n",
       "      <td>0.418617</td>\n",
       "      <td>0.271758</td>\n",
       "      <td>0.450616</td>\n",
       "    </tr>\n",
       "    <tr>\n",
       "      <th>64</th>\n",
       "      <td>0.408275</td>\n",
       "      <td>0.360904</td>\n",
       "      <td>0.479171</td>\n",
       "      <td>0.450616</td>\n",
       "      <td>0.446213</td>\n",
       "      <td>0.500057</td>\n",
       "    </tr>\n",
       "    <tr>\n",
       "      <th>65</th>\n",
       "      <td>0.447321</td>\n",
       "      <td>0.423501</td>\n",
       "      <td>0.523728</td>\n",
       "      <td>0.500057</td>\n",
       "      <td>0.365501</td>\n",
       "      <td>0.571644</td>\n",
       "    </tr>\n",
       "    <tr>\n",
       "      <th>66</th>\n",
       "      <td>0.498534</td>\n",
       "      <td>0.497466</td>\n",
       "      <td>0.571852</td>\n",
       "      <td>0.571644</td>\n",
       "      <td>0.297234</td>\n",
       "      <td>0.567470</td>\n",
       "    </tr>\n",
       "    <tr>\n",
       "      <th>67</th>\n",
       "      <td>0.564566</td>\n",
       "      <td>0.502122</td>\n",
       "      <td>0.611776</td>\n",
       "      <td>0.567470</td>\n",
       "      <td>0.272150</td>\n",
       "      <td>0.600809</td>\n",
       "    </tr>\n",
       "  </tbody>\n",
       "</table>\n",
       "</div>"
      ],
      "text/plain": [
       "<div>\n",
       "<style scoped>\n",
       "    .dataframe tbody tr th:only-of-type {\n",
       "        vertical-align: middle;\n",
       "    }\n",
       "\n",
       "    .dataframe tbody tr th {\n",
       "        vertical-align: top;\n",
       "    }\n",
       "\n",
       "    .dataframe thead th {\n",
       "        text-align: right;\n",
       "    }\n",
       "</style>\n",
       "<table border=\"1\" class=\"dataframe\">\n",
       "  <thead>\n",
       "    <tr style=\"text-align: right;\">\n",
       "      <th></th>\n",
       "      <th>Open</th>\n",
       "      <th>High</th>\n",
       "      <th>Low</th>\n",
       "      <th>Close</th>\n",
       "      <th>Volume</th>\n",
       "      <th>NextClose</th>\n",
       "    </tr>\n",
       "  </thead>\n",
       "  <tbody>\n",
       "    <tr>\n",
       "      <th>63</th>\n",
       "      <td>0.394249</td>\n",
       "      <td>0.331242</td>\n",
       "      <td>0.452042</td>\n",
       "      <td>0.418617</td>\n",
       "      <td>0.271758</td>\n",
       "      <td>0.450616</td>\n",
       "    </tr>\n",
       "    <tr>\n",
       "      <th>64</th>\n",
       "      <td>0.408275</td>\n",
       "      <td>0.360904</td>\n",
       "      <td>0.479171</td>\n",
       "      <td>0.450616</td>\n",
       "      <td>0.446213</td>\n",
       "      <td>0.500057</td>\n",
       "    </tr>\n",
       "    <tr>\n",
       "      <th>65</th>\n",
       "      <td>0.447321</td>\n",
       "      <td>0.423501</td>\n",
       "      <td>0.523728</td>\n",
       "      <td>0.500057</td>\n",
       "      <td>0.365501</td>\n",
       "      <td>0.571644</td>\n",
       "    </tr>\n",
       "    <tr>\n",
       "      <th>66</th>\n",
       "      <td>0.498534</td>\n",
       "      <td>0.497466</td>\n",
       "      <td>0.571852</td>\n",
       "      <td>0.571644</td>\n",
       "      <td>0.297234</td>\n",
       "      <td>0.567470</td>\n",
       "    </tr>\n",
       "    <tr>\n",
       "      <th>67</th>\n",
       "      <td>0.564566</td>\n",
       "      <td>0.502122</td>\n",
       "      <td>0.611776</td>\n",
       "      <td>0.567470</td>\n",
       "      <td>0.272150</td>\n",
       "      <td>0.600809</td>\n",
       "    </tr>\n",
       "  </tbody>\n",
       "</table>\n",
       "</div>"
      ]
     },
     "execution_count": 4,
     "metadata": {},
     "output_type": "execute_result"
    }
   ],
   "source": [
    "# normalize \n",
    "train = train.drop(\"Date\",axis=1)\n",
    "test = test.drop(\"Date\",axis=1)\n",
    "\n",
    "scaler, train_scaled, test_scaled = preproc.scale(train,test)\n",
    "\n",
    "train_scaled.head()"
   ]
  },
  {
   "cell_type": "code",
   "execution_count": 5,
   "metadata": {},
   "outputs": [
    {
     "name": "stdout",
     "output_type": "stream",
     "text": [
      "        Open      High       Low     Close    Volume\n63  0.394249  0.331242  0.452042  0.418617  0.271758\n64  0.408275  0.360904  0.479171  0.450616  0.446213\n65  0.447321  0.423501  0.523728  0.500057  0.365501\n66  0.498534  0.497466  0.571852  0.571644  0.297234\n67  0.564566  0.502122  0.611776  0.567470  0.272150\n\n\n63    0.450616\n64    0.500057\n65    0.571644\n66    0.567470\n67    0.600809\nName: NextClose, dtype: float64\n"
     ]
    }
   ],
   "source": [
    "X_train = train_scaled.drop('NextClose', axis=1)\n",
    "y_train = train_scaled['NextClose']\n",
    "\n",
    "X_test = test_scaled.drop('NextClose', axis=1)\n",
    "y_test = test_scaled['NextClose']\n",
    "\n",
    "print(X_train.head())\n",
    "print('\\n')\n",
    "print(y_train.head())"
   ]
  },
  {
   "cell_type": "code",
   "execution_count": 24,
   "metadata": {},
   "outputs": [],
   "source": [
    "def plot_history(history, metric, figname=None):\n",
    "    \n",
    "    plt.figure()\n",
    "    \n",
    "    train_mae = np.array(history.history[metric])\n",
    "    val_mae = np.array(history.history['val_' + metric])\n",
    "    \n",
    "    \n",
    "    train_label = 'Training '\n",
    "    val_label = 'Validation '\n",
    "    \n",
    "    plt.plot(history.epoch, train_mae,\n",
    "           label=train_label)\n",
    "    plt.plot(history.epoch, val_mae,\n",
    "           label = val_label)\n",
    "    \n",
    "    ymin = np.min([np.min(train_mae), np.min(val_mae), 0])\n",
    "    ymax = np.max([np.max(train_mae), np.max(val_mae)])\n",
    "   \n",
    "    plt.ylim([ymin, ymax])\n",
    "    \n",
    "    plt.title(metric)\n",
    "    plt.xlabel('Epoch')\n",
    "    plt.ylabel(metric)\n",
    "    \n",
    "    plt.legend()\n",
    "    \n",
    "    if figname is not None:\n",
    "        plt.savefig(figname)\n",
    "\n",
    "\n",
    "def construct_model_1(input_shape):\n",
    "\n",
    "    model = keras.Sequential([\n",
    "        keras.layers.Dense(64, activation=tf.nn.relu,\n",
    "                           input_shape=(input_shape,)),\n",
    "        keras.layers.Dense(32, activation=tf.nn.relu),\n",
    "        keras.layers.Dense(1)\n",
    "    ])\n",
    "\n",
    "    optimizer = tf.train.AdamOptimizer(0.001)\n",
    "\n",
    "    model.compile(loss='mae',\n",
    "                  optimizer=optimizer,\n",
    "                  metrics=['mae','mse'])\n",
    "    return model\n",
    "\n",
    "def construct_model_2(input_shape):\n",
    "    model = keras.Sequential([\n",
    "        keras.layers.Dense(128, activation=tf.nn.relu,\n",
    "                           input_shape=(input_shape,)),\n",
    "        keras.layers.BatchNormalization(),\n",
    "        keras.layers.Dense(64, activation=tf.nn.relu),\n",
    "        keras.layers.BatchNormalization(),\n",
    "        keras.layers.Dense(32, activation=tf.nn.relu),\n",
    "        keras.layers.BatchNormalization(),\n",
    "        keras.layers.Dense(16, activation=tf.nn.relu),\n",
    "        keras.layers.BatchNormalization(),\n",
    "        keras.layers.Dense(8, activation=tf.nn.relu),\n",
    "        keras.layers.Dense(1)\n",
    "    ])\n",
    "    \n",
    "    optimizer = tf.train.AdamOptimizer(0.001)\n",
    "    \n",
    "    model.compile(loss='mae',\n",
    "                optimizer=optimizer,\n",
    "                metrics=['mse','mae'])\n",
    "    return model\n",
    "\n",
    "\n"
   ]
  },
  {
   "cell_type": "code",
   "execution_count": 7,
   "metadata": {},
   "outputs": [
    {
     "name": "stdout",
     "output_type": "stream",
     "text": [
      "\n...................."
     ]
    },
    {
     "name": "stdout",
     "output_type": "stream",
     "text": [
      "...................."
     ]
    },
    {
     "name": "stdout",
     "output_type": "stream",
     "text": [
      "................."
     ]
    },
    {
     "name": "stdout",
     "output_type": "stream",
     "text": [
      "...................."
     ]
    },
    {
     "name": "stdout",
     "output_type": "stream",
     "text": [
      "...................."
     ]
    },
    {
     "name": "stdout",
     "output_type": "stream",
     "text": [
      "...\n................"
     ]
    },
    {
     "name": "stdout",
     "output_type": "stream",
     "text": [
      "..............."
     ]
    },
    {
     "name": "stdout",
     "output_type": "stream",
     "text": [
      ".................."
     ]
    },
    {
     "name": "stdout",
     "output_type": "stream",
     "text": [
      ".................."
     ]
    },
    {
     "name": "stdout",
     "output_type": "stream",
     "text": [
      "................."
     ]
    },
    {
     "name": "stdout",
     "output_type": "stream",
     "text": [
      "................"
     ]
    },
    {
     "name": "stdout",
     "output_type": "stream",
     "text": [
      "\n................."
     ]
    },
    {
     "name": "stdout",
     "output_type": "stream",
     "text": [
      ".........."
     ]
    },
    {
     "name": "stdout",
     "output_type": "stream",
     "text": [
      "................."
     ]
    },
    {
     "name": "stdout",
     "output_type": "stream",
     "text": [
      "................."
     ]
    },
    {
     "name": "stdout",
     "output_type": "stream",
     "text": [
      ".................."
     ]
    },
    {
     "name": "stdout",
     "output_type": "stream",
     "text": [
      "................."
     ]
    },
    {
     "name": "stdout",
     "output_type": "stream",
     "text": [
      "....\n..............."
     ]
    },
    {
     "name": "stdout",
     "output_type": "stream",
     "text": [
      ".................."
     ]
    },
    {
     "name": "stdout",
     "output_type": "stream",
     "text": [
      "..................."
     ]
    },
    {
     "name": "stdout",
     "output_type": "stream",
     "text": [
      "...................."
     ]
    },
    {
     "name": "stdout",
     "output_type": "stream",
     "text": [
      ".................."
     ]
    },
    {
     "name": "stdout",
     "output_type": "stream",
     "text": [
      "..........\n..."
     ]
    },
    {
     "name": "stdout",
     "output_type": "stream",
     "text": [
      "......"
     ]
    },
    {
     "name": "stdout",
     "output_type": "stream",
     "text": [
      "......."
     ]
    },
    {
     "name": "stdout",
     "output_type": "stream",
     "text": [
      "......"
     ]
    },
    {
     "name": "stdout",
     "output_type": "stream",
     "text": [
      "..............."
     ]
    },
    {
     "name": "stdout",
     "output_type": "stream",
     "text": [
      ".................."
     ]
    },
    {
     "name": "stdout",
     "output_type": "stream",
     "text": [
      ".................."
     ]
    },
    {
     "name": "stdout",
     "output_type": "stream",
     "text": [
      "...................."
     ]
    },
    {
     "name": "stdout",
     "output_type": "stream",
     "text": [
      ".......\n.............."
     ]
    },
    {
     "name": "stdout",
     "output_type": "stream",
     "text": [
      "................."
     ]
    },
    {
     "name": "stdout",
     "output_type": "stream",
     "text": [
      "................."
     ]
    },
    {
     "name": "stdout",
     "output_type": "stream",
     "text": [
      "..................."
     ]
    },
    {
     "name": "stdout",
     "output_type": "stream",
     "text": [
      "..................."
     ]
    },
    {
     "name": "stdout",
     "output_type": "stream",
     "text": [
      "..............\n....."
     ]
    },
    {
     "name": "stdout",
     "output_type": "stream",
     "text": [
      ".................."
     ]
    },
    {
     "name": "stdout",
     "output_type": "stream",
     "text": [
      "...................."
     ]
    },
    {
     "name": "stdout",
     "output_type": "stream",
     "text": [
      "...................."
     ]
    },
    {
     "name": "stdout",
     "output_type": "stream",
     "text": [
      "...................."
     ]
    },
    {
     "name": "stdout",
     "output_type": "stream",
     "text": [
      ".................\n..."
     ]
    },
    {
     "name": "stdout",
     "output_type": "stream",
     "text": [
      "......"
     ]
    },
    {
     "name": "stdout",
     "output_type": "stream",
     "text": [
      "........."
     ]
    },
    {
     "name": "stdout",
     "output_type": "stream",
     "text": [
      "..................."
     ]
    },
    {
     "name": "stdout",
     "output_type": "stream",
     "text": [
      "....................."
     ]
    },
    {
     "name": "stdout",
     "output_type": "stream",
     "text": [
      "...................."
     ]
    },
    {
     "name": "stdout",
     "output_type": "stream",
     "text": [
      "...................."
     ]
    },
    {
     "name": "stdout",
     "output_type": "stream",
     "text": [
      "..\n.............."
     ]
    },
    {
     "name": "stdout",
     "output_type": "stream",
     "text": [
      "................."
     ]
    },
    {
     "name": "stdout",
     "output_type": "stream",
     "text": [
      "...................."
     ]
    },
    {
     "name": "stdout",
     "output_type": "stream",
     "text": [
      "..................."
     ]
    },
    {
     "name": "stdout",
     "output_type": "stream",
     "text": [
      ".................."
     ]
    },
    {
     "name": "stdout",
     "output_type": "stream",
     "text": [
      "............\n......."
     ]
    },
    {
     "name": "stdout",
     "output_type": "stream",
     "text": [
      "................."
     ]
    },
    {
     "name": "stdout",
     "output_type": "stream",
     "text": [
      "...................."
     ]
    },
    {
     "name": "stdout",
     "output_type": "stream",
     "text": [
      "...................."
     ]
    },
    {
     "name": "stdout",
     "output_type": "stream",
     "text": [
      ".................."
     ]
    },
    {
     "name": "stdout",
     "output_type": "stream",
     "text": [
      ".................."
     ]
    },
    {
     "data": {
      "image/png": "[encoded data removed]",
      "text/plain": [
       "<Figure size 432x288 with 1 Axes>"
      ]
     },
     "metadata": {},
     "output_type": "display_data"
    }
   ],
   "source": [
    "model2 = construct_model_2(X_train.shape[1])\n",
    "\n",
    "EPOCHS = 1000\n",
    "\n",
    "# callbacks\n",
    "class PrintPct(keras.callbacks.Callback):    \n",
    "    def on_epoch_end(self, epoch, logs):\n",
    "        if epoch % 100 == 0: print('')\n",
    "        print('.', end='')\n",
    "\n",
    "\n",
    "history2 = model2.fit(X_train, y_train, epochs=EPOCHS,\n",
    "                    validation_split=0.2, verbose=0,\n",
    "                    callbacks=[PrintPct()])\n",
    "\n",
    "plot_history(history2,'mean_absolute_error','model_2_mean_absolute_error')"
   ]
  },
  {
   "cell_type": "code",
   "execution_count": 8,
   "metadata": {},
   "outputs": [],
   "source": [
    "#plot_history(history2,'mean_absolute_error','Regression Mean Absolute Error')\n",
    "\n",
    "metric_keys2 = model2.metrics_names\n",
    "test_metric_vals2 = model2.evaluate(X_test, y_test, verbose=0)\n",
    "\n",
    "test_metrics2 = dict(zip(metric_keys2, test_metric_vals2))\n",
    "y_test_pred2 = model2.predict(X_test)"
   ]
  },
  {
   "cell_type": "code",
   "execution_count": 9,
   "metadata": {},
   "outputs": [
    {
     "data": {
      "text/html": [
       "<div>\n",
       "<style scoped>\n",
       "    .dataframe tbody tr th:only-of-type {\n",
       "        vertical-align: middle;\n",
       "    }\n",
       "\n",
       "    .dataframe tbody tr th {\n",
       "        vertical-align: top;\n",
       "    }\n",
       "\n",
       "    .dataframe thead th {\n",
       "        text-align: right;\n",
       "    }\n",
       "</style>\n",
       "<table border=\"1\" class=\"dataframe\">\n",
       "  <thead>\n",
       "    <tr style=\"text-align: right;\">\n",
       "      <th></th>\n",
       "      <th>Open</th>\n",
       "      <th>High</th>\n",
       "      <th>Low</th>\n",
       "      <th>Close</th>\n",
       "      <th>Volume</th>\n",
       "      <th>NextClose</th>\n",
       "    </tr>\n",
       "  </thead>\n",
       "  <tbody>\n",
       "    <tr>\n",
       "      <th>209</th>\n",
       "      <td>0.616860</td>\n",
       "      <td>0.569592</td>\n",
       "      <td>0.625659</td>\n",
       "      <td>0.583951</td>\n",
       "      <td>0.233672</td>\n",
       "      <td>0.607365</td>\n",
       "    </tr>\n",
       "    <tr>\n",
       "      <th>210</th>\n",
       "      <td>0.546836</td>\n",
       "      <td>0.520625</td>\n",
       "      <td>0.574459</td>\n",
       "      <td>0.581467</td>\n",
       "      <td>0.221334</td>\n",
       "      <td>0.673039</td>\n",
       "    </tr>\n",
       "    <tr>\n",
       "      <th>211</th>\n",
       "      <td>0.582302</td>\n",
       "      <td>0.561616</td>\n",
       "      <td>0.640817</td>\n",
       "      <td>0.625709</td>\n",
       "      <td>0.117741</td>\n",
       "      <td>0.649849</td>\n",
       "    </tr>\n",
       "    <tr>\n",
       "      <th>212</th>\n",
       "      <td>0.608601</td>\n",
       "      <td>0.589137</td>\n",
       "      <td>0.659003</td>\n",
       "      <td>0.638551</td>\n",
       "      <td>0.117696</td>\n",
       "      <td>0.636361</td>\n",
       "    </tr>\n",
       "    <tr>\n",
       "      <th>213</th>\n",
       "      <td>0.647582</td>\n",
       "      <td>0.647407</td>\n",
       "      <td>0.714092</td>\n",
       "      <td>0.679651</td>\n",
       "      <td>0.119084</td>\n",
       "      <td>0.613763</td>\n",
       "    </tr>\n",
       "  </tbody>\n",
       "</table>\n",
       "</div>"
      ],
      "text/plain": [
       "<div>\n",
       "<style scoped>\n",
       "    .dataframe tbody tr th:only-of-type {\n",
       "        vertical-align: middle;\n",
       "    }\n",
       "\n",
       "    .dataframe tbody tr th {\n",
       "        vertical-align: top;\n",
       "    }\n",
       "\n",
       "    .dataframe thead th {\n",
       "        text-align: right;\n",
       "    }\n",
       "</style>\n",
       "<table border=\"1\" class=\"dataframe\">\n",
       "  <thead>\n",
       "    <tr style=\"text-align: right;\">\n",
       "      <th></th>\n",
       "      <th>Open</th>\n",
       "      <th>High</th>\n",
       "      <th>Low</th>\n",
       "      <th>Close</th>\n",
       "      <th>Volume</th>\n",
       "      <th>NextClose</th>\n",
       "    </tr>\n",
       "  </thead>\n",
       "  <tbody>\n",
       "    <tr>\n",
       "      <th>209</th>\n",
       "      <td>0.616860</td>\n",
       "      <td>0.569592</td>\n",
       "      <td>0.625659</td>\n",
       "      <td>0.583951</td>\n",
       "      <td>0.233672</td>\n",
       "      <td>0.607365</td>\n",
       "    </tr>\n",
       "    <tr>\n",
       "      <th>210</th>\n",
       "      <td>0.546836</td>\n",
       "      <td>0.520625</td>\n",
       "      <td>0.574459</td>\n",
       "      <td>0.581467</td>\n",
       "      <td>0.221334</td>\n",
       "      <td>0.673039</td>\n",
       "    </tr>\n",
       "    <tr>\n",
       "      <th>211</th>\n",
       "      <td>0.582302</td>\n",
       "      <td>0.561616</td>\n",
       "      <td>0.640817</td>\n",
       "      <td>0.625709</td>\n",
       "      <td>0.117741</td>\n",
       "      <td>0.649849</td>\n",
       "    </tr>\n",
       "    <tr>\n",
       "      <th>212</th>\n",
       "      <td>0.608601</td>\n",
       "      <td>0.589137</td>\n",
       "      <td>0.659003</td>\n",
       "      <td>0.638551</td>\n",
       "      <td>0.117696</td>\n",
       "      <td>0.636361</td>\n",
       "    </tr>\n",
       "    <tr>\n",
       "      <th>213</th>\n",
       "      <td>0.647582</td>\n",
       "      <td>0.647407</td>\n",
       "      <td>0.714092</td>\n",
       "      <td>0.679651</td>\n",
       "      <td>0.119084</td>\n",
       "      <td>0.613763</td>\n",
       "    </tr>\n",
       "  </tbody>\n",
       "</table>\n",
       "</div>"
      ]
     },
     "execution_count": 9,
     "metadata": {},
     "output_type": "execute_result"
    }
   ],
   "source": [
    "# recombine test X and y to rescale with same scaler\n",
    "\n",
    "Xy_test2 = deepcopy(X_test)\n",
    "Xy_test2['NextClose'] = y_test_pred2\n",
    "Xy_test2.head()"
   ]
  },
  {
   "cell_type": "code",
   "execution_count": 10,
   "metadata": {
    "collapsed": true
   },
   "outputs": [
    {
     "data": {
      "text/plain": [
       "7439.950314567432"
      ]
     },
     "execution_count": 10,
     "metadata": {},
     "output_type": "execute_result"
    }
   ],
   "source": [
    "# rescaled X_test\n",
    "test_resc2 = scaler.inverse_transform(Xy_test2)\n",
    "\n",
    "cols = test.columns\n",
    "\n",
    "test_resc2 = pd.DataFrame(test_resc2, columns=cols, index=Xy_test2.index)\n",
    "\n",
    "usd_err2 = np.abs(test.NextClose - test_resc2.NextClose)\n",
    "np.sum(usd_err2)"
   ]
  },
  {
   "cell_type": "code",
   "execution_count": 11,
   "metadata": {},
   "outputs": [],
   "source": [
    "def plot_prediction(actual, predicted, figname=None):\n",
    "    \"\"\"\n",
    "    \n",
    "    :param actual: actual next day closing price in USD\n",
    "    :param predicted: predicted next day closing price in USd\n",
    "    :return: \n",
    "    \"\"\"\n",
    "    plt.figure()\n",
    "    \n",
    "    plt.title('')\n",
    "    \n",
    "    xvals = range(actual.shape[0])\n",
    "    \n",
    "    plt.plot(xvals, actual,\n",
    "           label='Actual')\n",
    "    plt.plot(xvals, predicted,\n",
    "           label = 'Predicted')\n",
    "    \n",
    "    ymin = np.min([np.min(actual), np.min(predicted)]) - 500\n",
    "    ymax = np.max([np.max(actual), np.max(predicted)]) + 500\n",
    "   \n",
    "    plt.ylim([ymin, ymax])\n",
    "    \n",
    "    plt.title('Closing Price')\n",
    "    plt.xlabel('t')\n",
    "    plt.ylabel('$USD')\n",
    "    \n",
    "    plt.legend()\n",
    "    \n",
    "    if figname is not None:\n",
    "        plt.savefig(figname)\n",
    "    "
   ]
  },
  {
   "cell_type": "code",
   "execution_count": 13,
   "metadata": {},
   "outputs": [
    {
     "data": {
      "image/png": "[encoded data removed]",
      "text/plain": [
       "<Figure size 432x288 with 1 Axes>"
      ]
     },
     "metadata": {},
     "output_type": "display_data"
    }
   ],
   "source": [
    "plot_prediction(test.NextClose, test_resc2.NextClose, \n",
    "                figname='regression_closing_price')"
   ]
  },
  {
   "cell_type": "code",
   "execution_count": 25,
   "metadata": {},
   "outputs": [
    {
     "name": "stdout",
     "output_type": "stream",
     "text": [
      "\n................................"
     ]
    },
    {
     "name": "stdout",
     "output_type": "stream",
     "text": [
      "........................."
     ]
    },
    {
     "name": "stdout",
     "output_type": "stream",
     "text": [
      "............."
     ]
    },
    {
     "name": "stdout",
     "output_type": "stream",
     "text": [
      ".........."
     ]
    },
    {
     "name": "stdout",
     "output_type": "stream",
     "text": [
      "................."
     ]
    },
    {
     "name": "stdout",
     "output_type": "stream",
     "text": [
      "...\n................"
     ]
    },
    {
     "name": "stdout",
     "output_type": "stream",
     "text": [
      "................"
     ]
    },
    {
     "name": "stdout",
     "output_type": "stream",
     "text": [
      "....................."
     ]
    },
    {
     "name": "stdout",
     "output_type": "stream",
     "text": [
      "......................."
     ]
    },
    {
     "name": "stdout",
     "output_type": "stream",
     "text": [
      "......................."
     ]
    },
    {
     "name": "stdout",
     "output_type": "stream",
     "text": [
      ".\n....................."
     ]
    },
    {
     "name": "stdout",
     "output_type": "stream",
     "text": [
      "................"
     ]
    },
    {
     "name": "stdout",
     "output_type": "stream",
     "text": [
      ".............."
     ]
    },
    {
     "name": "stdout",
     "output_type": "stream",
     "text": [
      "................"
     ]
    },
    {
     "name": "stdout",
     "output_type": "stream",
     "text": [
      "......................"
     ]
    },
    {
     "name": "stdout",
     "output_type": "stream",
     "text": [
      "...........\n..........."
     ]
    },
    {
     "name": "stdout",
     "output_type": "stream",
     "text": [
      "......................."
     ]
    },
    {
     "name": "stdout",
     "output_type": "stream",
     "text": [
      "............................"
     ]
    },
    {
     "name": "stdout",
     "output_type": "stream",
     "text": [
      "..........................."
     ]
    },
    {
     "name": "stdout",
     "output_type": "stream",
     "text": [
      "...........\n................"
     ]
    },
    {
     "name": "stdout",
     "output_type": "stream",
     "text": [
      "........................"
     ]
    },
    {
     "name": "stdout",
     "output_type": "stream",
     "text": [
      "............................."
     ]
    },
    {
     "name": "stdout",
     "output_type": "stream",
     "text": [
      ".............................."
     ]
    },
    {
     "name": "stdout",
     "output_type": "stream",
     "text": [
      ".\n.............................."
     ]
    },
    {
     "name": "stdout",
     "output_type": "stream",
     "text": [
      "........................"
     ]
    },
    {
     "name": "stdout",
     "output_type": "stream",
     "text": [
      "............................."
     ]
    },
    {
     "name": "stdout",
     "output_type": "stream",
     "text": [
      ".................\n.............."
     ]
    },
    {
     "name": "stdout",
     "output_type": "stream",
     "text": [
      "............................"
     ]
    },
    {
     "name": "stdout",
     "output_type": "stream",
     "text": [
      "............................"
     ]
    },
    {
     "name": "stdout",
     "output_type": "stream",
     "text": [
      "........................"
     ]
    },
    {
     "name": "stdout",
     "output_type": "stream",
     "text": [
      "......\n..................."
     ]
    },
    {
     "name": "stdout",
     "output_type": "stream",
     "text": [
      "..........................."
     ]
    },
    {
     "name": "stdout",
     "output_type": "stream",
     "text": [
      "............................."
     ]
    },
    {
     "name": "stdout",
     "output_type": "stream",
     "text": [
      "........."
     ]
    },
    {
     "name": "stdout",
     "output_type": "stream",
     "text": [
      "................\n..........."
     ]
    },
    {
     "name": "stdout",
     "output_type": "stream",
     "text": [
      "........................"
     ]
    },
    {
     "name": "stdout",
     "output_type": "stream",
     "text": [
      "............................."
     ]
    },
    {
     "name": "stdout",
     "output_type": "stream",
     "text": [
      ".............................."
     ]
    },
    {
     "name": "stdout",
     "output_type": "stream",
     "text": [
      "......\n......................."
     ]
    },
    {
     "name": "stdout",
     "output_type": "stream",
     "text": [
      "....................."
     ]
    },
    {
     "name": "stdout",
     "output_type": "stream",
     "text": [
      "..............................."
     ]
    },
    {
     "name": "stdout",
     "output_type": "stream",
     "text": [
      "........................."
     ]
    },
    {
     "data": {
      "image/png": "[encoded data removed]",
      "text/plain": [
       "<Figure size 432x288 with 1 Axes>"
      ]
     },
     "metadata": {},
     "output_type": "display_data"
    }
   ],
   "source": [
    "model1 = construct_model_1(X_train.shape[1])\n",
    "\n",
    "EPOCHS = 1000\n",
    "\n",
    "# callbacks\n",
    "class PrintPct(keras.callbacks.Callback):    \n",
    "    def on_epoch_end(self, epoch, logs):\n",
    "        if epoch % 100 == 0: print('')\n",
    "        print('.', end='')\n",
    "\n",
    "\n",
    "history1 = model1.fit(X_train, y_train, epochs=EPOCHS,\n",
    "                    validation_split=0.2, verbose=0,\n",
    "                    callbacks=[PrintPct()])\n",
    "\n",
    "plot_history(history1,'mean_squared_error','model_1_error_batch_norm')"
   ]
  },
  {
   "cell_type": "code",
   "execution_count": 26,
   "metadata": {},
   "outputs": [],
   "source": [
    "metric_keys1 = model1.metrics_names\n",
    "test_metric_vals1 = model1.evaluate(X_test, y_test, verbose=0)\n",
    "\n",
    "test_metrics1 = dict(zip(metric_keys1, test_metric_vals1))\n",
    "y_test_pred1 = model1.predict(X_test)"
   ]
  },
  {
   "cell_type": "code",
   "execution_count": 27,
   "metadata": {},
   "outputs": [
    {
     "data": {
      "text/plain": [
       "11461.635010397858"
      ]
     },
     "execution_count": 27,
     "metadata": {},
     "output_type": "execute_result"
    }
   ],
   "source": [
    "# rescaled X_test\n",
    "Xy_test1 = deepcopy(X_test)\n",
    "Xy_test1['NextClose'] = y_test_pred1\n",
    "Xy_test1.head()\n",
    "\n",
    "\n",
    "test_resc1 = scaler.inverse_transform(Xy_test1)\n",
    "\n",
    "cols = test.columns\n",
    "\n",
    "test_resc1 = pd.DataFrame(test_resc1, columns=cols, index=Xy_test1.index)\n",
    "\n",
    "usd_err1 = np.abs(test.NextClose - test_resc1.NextClose)\n",
    "np.sum(usd_err1)"
   ]
  },
  {
   "cell_type": "code",
   "execution_count": 38,
   "metadata": {},
   "outputs": [
    {
     "data": {
      "image/png": "[encoded data removed]",
      "text/plain": [
       "<Figure size 432x288 with 1 Axes>"
      ]
     },
     "metadata": {},
     "output_type": "display_data"
    }
   ],
   "source": [
    "plot_prediction(test.NextClose, test_resc1.NextClose, \n",
    "                figname='model_1_pred')"
   ]
  },
  {
   "cell_type": "code",
   "execution_count": 36,
   "metadata": {},
   "outputs": [
    {
     "data": {
      "image/png": "[encoded data removed]",
      "text/plain": [
       "<Figure size 432x288 with 1 Axes>"
      ]
     },
     "metadata": {},
     "output_type": "display_data"
    }
   ],
   "source": [
    "plot_history(history1,'mean_absolute_error','model_1_mae')"
   ]
  },
  {
   "cell_type": "code",
   "execution_count": 43,
   "metadata": {},
   "outputs": [
    {
     "data": {
      "text/html": [
       "<div>\n",
       "<style scoped>\n",
       "    .dataframe tbody tr th:only-of-type {\n",
       "        vertical-align: middle;\n",
       "    }\n",
       "\n",
       "    .dataframe tbody tr th {\n",
       "        vertical-align: top;\n",
       "    }\n",
       "\n",
       "    .dataframe thead th {\n",
       "        text-align: right;\n",
       "    }\n",
       "</style>\n",
       "<table border=\"1\" class=\"dataframe\">\n",
       "  <thead>\n",
       "    <tr style=\"text-align: right;\">\n",
       "      <th></th>\n",
       "      <th>Open</th>\n",
       "      <th>High</th>\n",
       "      <th>Low</th>\n",
       "      <th>Close</th>\n",
       "      <th>Volume</th>\n",
       "      <th>NextClose</th>\n",
       "    </tr>\n",
       "  </thead>\n",
       "  <tbody>\n",
       "    <tr>\n",
       "      <th>209</th>\n",
       "      <td>0.616860</td>\n",
       "      <td>0.569592</td>\n",
       "      <td>0.625659</td>\n",
       "      <td>0.583951</td>\n",
       "      <td>0.233672</td>\n",
       "      <td>0.576248</td>\n",
       "    </tr>\n",
       "    <tr>\n",
       "      <th>210</th>\n",
       "      <td>0.546836</td>\n",
       "      <td>0.520625</td>\n",
       "      <td>0.574459</td>\n",
       "      <td>0.581467</td>\n",
       "      <td>0.221334</td>\n",
       "      <td>0.594072</td>\n",
       "    </tr>\n",
       "    <tr>\n",
       "      <th>211</th>\n",
       "      <td>0.582302</td>\n",
       "      <td>0.561616</td>\n",
       "      <td>0.640817</td>\n",
       "      <td>0.625709</td>\n",
       "      <td>0.117741</td>\n",
       "      <td>0.603005</td>\n",
       "    </tr>\n",
       "    <tr>\n",
       "      <th>212</th>\n",
       "      <td>0.608601</td>\n",
       "      <td>0.589137</td>\n",
       "      <td>0.659003</td>\n",
       "      <td>0.638551</td>\n",
       "      <td>0.117696</td>\n",
       "      <td>0.602783</td>\n",
       "    </tr>\n",
       "    <tr>\n",
       "      <th>213</th>\n",
       "      <td>0.647582</td>\n",
       "      <td>0.647407</td>\n",
       "      <td>0.714092</td>\n",
       "      <td>0.679651</td>\n",
       "      <td>0.119084</td>\n",
       "      <td>0.618370</td>\n",
       "    </tr>\n",
       "    <tr>\n",
       "      <th>214</th>\n",
       "      <td>0.669448</td>\n",
       "      <td>0.625041</td>\n",
       "      <td>0.715979</td>\n",
       "      <td>0.665005</td>\n",
       "      <td>0.085689</td>\n",
       "      <td>0.604979</td>\n",
       "    </tr>\n",
       "    <tr>\n",
       "      <th>215</th>\n",
       "      <td>0.660598</td>\n",
       "      <td>0.617105</td>\n",
       "      <td>0.695016</td>\n",
       "      <td>0.640838</td>\n",
       "      <td>0.081466</td>\n",
       "      <td>0.574441</td>\n",
       "    </tr>\n",
       "    <tr>\n",
       "      <th>216</th>\n",
       "      <td>0.596233</td>\n",
       "      <td>0.536160</td>\n",
       "      <td>0.607723</td>\n",
       "      <td>0.577245</td>\n",
       "      <td>0.110893</td>\n",
       "      <td>0.551701</td>\n",
       "    </tr>\n",
       "    <tr>\n",
       "      <th>217</th>\n",
       "      <td>0.570978</td>\n",
       "      <td>0.528605</td>\n",
       "      <td>0.585414</td>\n",
       "      <td>0.536564</td>\n",
       "      <td>0.089037</td>\n",
       "      <td>0.490539</td>\n",
       "    </tr>\n",
       "    <tr>\n",
       "      <th>218</th>\n",
       "      <td>0.532925</td>\n",
       "      <td>0.512623</td>\n",
       "      <td>0.600924</td>\n",
       "      <td>0.572957</td>\n",
       "      <td>0.087861</td>\n",
       "      <td>0.548985</td>\n",
       "    </tr>\n",
       "    <tr>\n",
       "      <th>219</th>\n",
       "      <td>0.539641</td>\n",
       "      <td>0.472883</td>\n",
       "      <td>0.524537</td>\n",
       "      <td>0.528362</td>\n",
       "      <td>0.203400</td>\n",
       "      <td>0.546470</td>\n",
       "    </tr>\n",
       "    <tr>\n",
       "      <th>220</th>\n",
       "      <td>0.559982</td>\n",
       "      <td>0.614826</td>\n",
       "      <td>0.631046</td>\n",
       "      <td>0.656891</td>\n",
       "      <td>0.273719</td>\n",
       "      <td>0.632816</td>\n",
       "    </tr>\n",
       "    <tr>\n",
       "      <th>221</th>\n",
       "      <td>0.647292</td>\n",
       "      <td>0.660931</td>\n",
       "      <td>0.704389</td>\n",
       "      <td>0.692756</td>\n",
       "      <td>0.185828</td>\n",
       "      <td>0.648409</td>\n",
       "    </tr>\n",
       "    <tr>\n",
       "      <th>222</th>\n",
       "      <td>0.707665</td>\n",
       "      <td>0.684594</td>\n",
       "      <td>0.767398</td>\n",
       "      <td>0.721739</td>\n",
       "      <td>0.132146</td>\n",
       "      <td>0.658180</td>\n",
       "    </tr>\n",
       "    <tr>\n",
       "      <th>223</th>\n",
       "      <td>0.727900</td>\n",
       "      <td>0.722239</td>\n",
       "      <td>0.789558</td>\n",
       "      <td>0.742365</td>\n",
       "      <td>0.121663</td>\n",
       "      <td>0.658361</td>\n",
       "    </tr>\n",
       "    <tr>\n",
       "      <th>224</th>\n",
       "      <td>0.740892</td>\n",
       "      <td>0.702144</td>\n",
       "      <td>0.769346</td>\n",
       "      <td>0.713602</td>\n",
       "      <td>0.059610</td>\n",
       "      <td>0.617079</td>\n",
       "    </tr>\n",
       "    <tr>\n",
       "      <th>225</th>\n",
       "      <td>0.703283</td>\n",
       "      <td>0.674058</td>\n",
       "      <td>0.732330</td>\n",
       "      <td>0.688754</td>\n",
       "      <td>0.078901</td>\n",
       "      <td>0.606534</td>\n",
       "    </tr>\n",
       "    <tr>\n",
       "      <th>226</th>\n",
       "      <td>0.694314</td>\n",
       "      <td>0.698286</td>\n",
       "      <td>0.758394</td>\n",
       "      <td>0.732006</td>\n",
       "      <td>0.059383</td>\n",
       "      <td>0.645023</td>\n",
       "    </tr>\n",
       "    <tr>\n",
       "      <th>227</th>\n",
       "      <td>0.760567</td>\n",
       "      <td>0.790449</td>\n",
       "      <td>0.821203</td>\n",
       "      <td>0.816096</td>\n",
       "      <td>0.089822</td>\n",
       "      <td>0.716389</td>\n",
       "    </tr>\n",
       "    <tr>\n",
       "      <th>228</th>\n",
       "      <td>0.832233</td>\n",
       "      <td>0.811311</td>\n",
       "      <td>0.871397</td>\n",
       "      <td>0.820759</td>\n",
       "      <td>0.076186</td>\n",
       "      <td>0.710094</td>\n",
       "    </tr>\n",
       "    <tr>\n",
       "      <th>229</th>\n",
       "      <td>0.828762</td>\n",
       "      <td>0.828750</td>\n",
       "      <td>0.870572</td>\n",
       "      <td>0.840396</td>\n",
       "      <td>0.081450</td>\n",
       "      <td>0.728470</td>\n",
       "    </tr>\n",
       "    <tr>\n",
       "      <th>230</th>\n",
       "      <td>0.834386</td>\n",
       "      <td>0.804492</td>\n",
       "      <td>0.838056</td>\n",
       "      <td>0.795755</td>\n",
       "      <td>0.119883</td>\n",
       "      <td>0.700307</td>\n",
       "    </tr>\n",
       "    <tr>\n",
       "      <th>231</th>\n",
       "      <td>0.788600</td>\n",
       "      <td>0.775666</td>\n",
       "      <td>0.820252</td>\n",
       "      <td>0.788588</td>\n",
       "      <td>0.169658</td>\n",
       "      <td>0.714672</td>\n",
       "    </tr>\n",
       "    <tr>\n",
       "      <th>232</th>\n",
       "      <td>0.771952</td>\n",
       "      <td>0.753892</td>\n",
       "      <td>0.796368</td>\n",
       "      <td>0.784586</td>\n",
       "      <td>0.141241</td>\n",
       "      <td>0.714357</td>\n",
       "    </tr>\n",
       "    <tr>\n",
       "      <th>233</th>\n",
       "      <td>0.773239</td>\n",
       "      <td>0.768946</td>\n",
       "      <td>0.817427</td>\n",
       "      <td>0.791886</td>\n",
       "      <td>0.193445</td>\n",
       "      <td>0.727452</td>\n",
       "    </tr>\n",
       "    <tr>\n",
       "      <th>234</th>\n",
       "      <td>0.791388</td>\n",
       "      <td>0.792780</td>\n",
       "      <td>0.820598</td>\n",
       "      <td>0.798658</td>\n",
       "      <td>0.152976</td>\n",
       "      <td>0.714482</td>\n",
       "    </tr>\n",
       "    <tr>\n",
       "      <th>235</th>\n",
       "      <td>0.783880</td>\n",
       "      <td>0.765806</td>\n",
       "      <td>0.800393</td>\n",
       "      <td>0.772930</td>\n",
       "      <td>0.181589</td>\n",
       "      <td>0.704313</td>\n",
       "    </tr>\n",
       "    <tr>\n",
       "      <th>236</th>\n",
       "      <td>0.797835</td>\n",
       "      <td>0.779913</td>\n",
       "      <td>0.811956</td>\n",
       "      <td>0.753644</td>\n",
       "      <td>0.137576</td>\n",
       "      <td>0.658301</td>\n",
       "    </tr>\n",
       "    <tr>\n",
       "      <th>237</th>\n",
       "      <td>0.746380</td>\n",
       "      <td>0.772266</td>\n",
       "      <td>0.779664</td>\n",
       "      <td>0.790612</td>\n",
       "      <td>0.158376</td>\n",
       "      <td>0.710301</td>\n",
       "    </tr>\n",
       "    <tr>\n",
       "      <th>238</th>\n",
       "      <td>0.796866</td>\n",
       "      <td>0.820271</td>\n",
       "      <td>0.836318</td>\n",
       "      <td>0.799647</td>\n",
       "      <td>0.183731</td>\n",
       "      <td>0.707989</td>\n",
       "    </tr>\n",
       "    <tr>\n",
       "      <th>239</th>\n",
       "      <td>0.829243</td>\n",
       "      <td>0.837794</td>\n",
       "      <td>0.880854</td>\n",
       "      <td>0.847343</td>\n",
       "      <td>0.150593</td>\n",
       "      <td>0.755703</td>\n",
       "    </tr>\n",
       "    <tr>\n",
       "      <th>240</th>\n",
       "      <td>0.858464</td>\n",
       "      <td>0.845223</td>\n",
       "      <td>0.881245</td>\n",
       "      <td>0.850158</td>\n",
       "      <td>0.102085</td>\n",
       "      <td>0.745039</td>\n",
       "    </tr>\n",
       "    <tr>\n",
       "      <th>241</th>\n",
       "      <td>0.852355</td>\n",
       "      <td>0.835058</td>\n",
       "      <td>0.868970</td>\n",
       "      <td>0.820143</td>\n",
       "      <td>0.104483</td>\n",
       "      <td>0.711822</td>\n",
       "    </tr>\n",
       "    <tr>\n",
       "      <th>242</th>\n",
       "      <td>0.826605</td>\n",
       "      <td>0.885761</td>\n",
       "      <td>0.883808</td>\n",
       "      <td>0.880088</td>\n",
       "      <td>0.123744</td>\n",
       "      <td>0.764581</td>\n",
       "    </tr>\n",
       "    <tr>\n",
       "      <th>243</th>\n",
       "      <td>0.898831</td>\n",
       "      <td>0.941882</td>\n",
       "      <td>0.949987</td>\n",
       "      <td>0.931587</td>\n",
       "      <td>0.136309</td>\n",
       "      <td>0.813241</td>\n",
       "    </tr>\n",
       "    <tr>\n",
       "      <th>244</th>\n",
       "      <td>0.977855</td>\n",
       "      <td>1.030825</td>\n",
       "      <td>1.027194</td>\n",
       "      <td>1.013060</td>\n",
       "      <td>0.150110</td>\n",
       "      <td>0.882136</td>\n",
       "    </tr>\n",
       "    <tr>\n",
       "      <th>245</th>\n",
       "      <td>1.048452</td>\n",
       "      <td>1.058174</td>\n",
       "      <td>1.079276</td>\n",
       "      <td>1.041118</td>\n",
       "      <td>0.749133</td>\n",
       "      <td>1.119511</td>\n",
       "    </tr>\n",
       "    <tr>\n",
       "      <th>246</th>\n",
       "      <td>1.041285</td>\n",
       "      <td>1.035576</td>\n",
       "      <td>1.036670</td>\n",
       "      <td>0.982273</td>\n",
       "      <td>0.141618</td>\n",
       "      <td>0.841177</td>\n",
       "    </tr>\n",
       "    <tr>\n",
       "      <th>247</th>\n",
       "      <td>1.005904</td>\n",
       "      <td>1.006922</td>\n",
       "      <td>1.013019</td>\n",
       "      <td>0.959624</td>\n",
       "      <td>0.110335</td>\n",
       "      <td>0.816208</td>\n",
       "    </tr>\n",
       "    <tr>\n",
       "      <th>248</th>\n",
       "      <td>0.983816</td>\n",
       "      <td>0.995947</td>\n",
       "      <td>0.972176</td>\n",
       "      <td>0.924945</td>\n",
       "      <td>0.153338</td>\n",
       "      <td>0.784210</td>\n",
       "    </tr>\n",
       "    <tr>\n",
       "      <th>249</th>\n",
       "      <td>0.943344</td>\n",
       "      <td>0.977218</td>\n",
       "      <td>0.982079</td>\n",
       "      <td>0.942669</td>\n",
       "      <td>0.098630</td>\n",
       "      <td>0.799831</td>\n",
       "    </tr>\n",
       "  </tbody>\n",
       "</table>\n",
       "</div>"
      ],
      "text/plain": [
       "<div>\n",
       "<style scoped>\n",
       "    .dataframe tbody tr th:only-of-type {\n",
       "        vertical-align: middle;\n",
       "    }\n",
       "\n",
       "    .dataframe tbody tr th {\n",
       "        vertical-align: top;\n",
       "    }\n",
       "\n",
       "    .dataframe thead th {\n",
       "        text-align: right;\n",
       "    }\n",
       "</style>\n",
       "<table border=\"1\" class=\"dataframe\">\n",
       "  <thead>\n",
       "    <tr style=\"text-align: right;\">\n",
       "      <th></th>\n",
       "      <th>Open</th>\n",
       "      <th>High</th>\n",
       "      <th>Low</th>\n",
       "      <th>Close</th>\n",
       "      <th>Volume</th>\n",
       "      <th>NextClose</th>\n",
       "    </tr>\n",
       "  </thead>\n",
       "  <tbody>\n",
       "    <tr>\n",
       "      <th>209</th>\n",
       "      <td>0.616860</td>\n",
       "      <td>0.569592</td>\n",
       "      <td>0.625659</td>\n",
       "      <td>0.583951</td>\n",
       "      <td>0.233672</td>\n",
       "      <td>0.576248</td>\n",
       "    </tr>\n",
       "    <tr>\n",
       "      <th>210</th>\n",
       "      <td>0.546836</td>\n",
       "      <td>0.520625</td>\n",
       "      <td>0.574459</td>\n",
       "      <td>0.581467</td>\n",
       "      <td>0.221334</td>\n",
       "      <td>0.594072</td>\n",
       "    </tr>\n",
       "    <tr>\n",
       "      <th>211</th>\n",
       "      <td>0.582302</td>\n",
       "      <td>0.561616</td>\n",
       "      <td>0.640817</td>\n",
       "      <td>0.625709</td>\n",
       "      <td>0.117741</td>\n",
       "      <td>0.603005</td>\n",
       "    </tr>\n",
       "    <tr>\n",
       "      <th>212</th>\n",
       "      <td>0.608601</td>\n",
       "      <td>0.589137</td>\n",
       "      <td>0.659003</td>\n",
       "      <td>0.638551</td>\n",
       "      <td>0.117696</td>\n",
       "      <td>0.602783</td>\n",
       "    </tr>\n",
       "    <tr>\n",
       "      <th>213</th>\n",
       "      <td>0.647582</td>\n",
       "      <td>0.647407</td>\n",
       "      <td>0.714092</td>\n",
       "      <td>0.679651</td>\n",
       "      <td>0.119084</td>\n",
       "      <td>0.618370</td>\n",
       "    </tr>\n",
       "    <tr>\n",
       "      <th>214</th>\n",
       "      <td>0.669448</td>\n",
       "      <td>0.625041</td>\n",
       "      <td>0.715979</td>\n",
       "      <td>0.665005</td>\n",
       "      <td>0.085689</td>\n",
       "      <td>0.604979</td>\n",
       "    </tr>\n",
       "    <tr>\n",
       "      <th>215</th>\n",
       "      <td>0.660598</td>\n",
       "      <td>0.617105</td>\n",
       "      <td>0.695016</td>\n",
       "      <td>0.640838</td>\n",
       "      <td>0.081466</td>\n",
       "      <td>0.574441</td>\n",
       "    </tr>\n",
       "    <tr>\n",
       "      <th>216</th>\n",
       "      <td>0.596233</td>\n",
       "      <td>0.536160</td>\n",
       "      <td>0.607723</td>\n",
       "      <td>0.577245</td>\n",
       "      <td>0.110893</td>\n",
       "      <td>0.551701</td>\n",
       "    </tr>\n",
       "    <tr>\n",
       "      <th>217</th>\n",
       "      <td>0.570978</td>\n",
       "      <td>0.528605</td>\n",
       "      <td>0.585414</td>\n",
       "      <td>0.536564</td>\n",
       "      <td>0.089037</td>\n",
       "      <td>0.490539</td>\n",
       "    </tr>\n",
       "    <tr>\n",
       "      <th>218</th>\n",
       "      <td>0.532925</td>\n",
       "      <td>0.512623</td>\n",
       "      <td>0.600924</td>\n",
       "      <td>0.572957</td>\n",
       "      <td>0.087861</td>\n",
       "      <td>0.548985</td>\n",
       "    </tr>\n",
       "    <tr>\n",
       "      <th>219</th>\n",
       "      <td>0.539641</td>\n",
       "      <td>0.472883</td>\n",
       "      <td>0.524537</td>\n",
       "      <td>0.528362</td>\n",
       "      <td>0.203400</td>\n",
       "      <td>0.546470</td>\n",
       "    </tr>\n",
       "    <tr>\n",
       "      <th>220</th>\n",
       "      <td>0.559982</td>\n",
       "      <td>0.614826</td>\n",
       "      <td>0.631046</td>\n",
       "      <td>0.656891</td>\n",
       "      <td>0.273719</td>\n",
       "      <td>0.632816</td>\n",
       "    </tr>\n",
       "    <tr>\n",
       "      <th>221</th>\n",
       "      <td>0.647292</td>\n",
       "      <td>0.660931</td>\n",
       "      <td>0.704389</td>\n",
       "      <td>0.692756</td>\n",
       "      <td>0.185828</td>\n",
       "      <td>0.648409</td>\n",
       "    </tr>\n",
       "    <tr>\n",
       "      <th>222</th>\n",
       "      <td>0.707665</td>\n",
       "      <td>0.684594</td>\n",
       "      <td>0.767398</td>\n",
       "      <td>0.721739</td>\n",
       "      <td>0.132146</td>\n",
       "      <td>0.658180</td>\n",
       "    </tr>\n",
       "    <tr>\n",
       "      <th>223</th>\n",
       "      <td>0.727900</td>\n",
       "      <td>0.722239</td>\n",
       "      <td>0.789558</td>\n",
       "      <td>0.742365</td>\n",
       "      <td>0.121663</td>\n",
       "      <td>0.658361</td>\n",
       "    </tr>\n",
       "    <tr>\n",
       "      <th>224</th>\n",
       "      <td>0.740892</td>\n",
       "      <td>0.702144</td>\n",
       "      <td>0.769346</td>\n",
       "      <td>0.713602</td>\n",
       "      <td>0.059610</td>\n",
       "      <td>0.617079</td>\n",
       "    </tr>\n",
       "    <tr>\n",
       "      <th>225</th>\n",
       "      <td>0.703283</td>\n",
       "      <td>0.674058</td>\n",
       "      <td>0.732330</td>\n",
       "      <td>0.688754</td>\n",
       "      <td>0.078901</td>\n",
       "      <td>0.606534</td>\n",
       "    </tr>\n",
       "    <tr>\n",
       "      <th>226</th>\n",
       "      <td>0.694314</td>\n",
       "      <td>0.698286</td>\n",
       "      <td>0.758394</td>\n",
       "      <td>0.732006</td>\n",
       "      <td>0.059383</td>\n",
       "      <td>0.645023</td>\n",
       "    </tr>\n",
       "    <tr>\n",
       "      <th>227</th>\n",
       "      <td>0.760567</td>\n",
       "      <td>0.790449</td>\n",
       "      <td>0.821203</td>\n",
       "      <td>0.816096</td>\n",
       "      <td>0.089822</td>\n",
       "      <td>0.716389</td>\n",
       "    </tr>\n",
       "    <tr>\n",
       "      <th>228</th>\n",
       "      <td>0.832233</td>\n",
       "      <td>0.811311</td>\n",
       "      <td>0.871397</td>\n",
       "      <td>0.820759</td>\n",
       "      <td>0.076186</td>\n",
       "      <td>0.710094</td>\n",
       "    </tr>\n",
       "    <tr>\n",
       "      <th>229</th>\n",
       "      <td>0.828762</td>\n",
       "      <td>0.828750</td>\n",
       "      <td>0.870572</td>\n",
       "      <td>0.840396</td>\n",
       "      <td>0.081450</td>\n",
       "      <td>0.728470</td>\n",
       "    </tr>\n",
       "    <tr>\n",
       "      <th>230</th>\n",
       "      <td>0.834386</td>\n",
       "      <td>0.804492</td>\n",
       "      <td>0.838056</td>\n",
       "      <td>0.795755</td>\n",
       "      <td>0.119883</td>\n",
       "      <td>0.700307</td>\n",
       "    </tr>\n",
       "    <tr>\n",
       "      <th>231</th>\n",
       "      <td>0.788600</td>\n",
       "      <td>0.775666</td>\n",
       "      <td>0.820252</td>\n",
       "      <td>0.788588</td>\n",
       "      <td>0.169658</td>\n",
       "      <td>0.714672</td>\n",
       "    </tr>\n",
       "    <tr>\n",
       "      <th>232</th>\n",
       "      <td>0.771952</td>\n",
       "      <td>0.753892</td>\n",
       "      <td>0.796368</td>\n",
       "      <td>0.784586</td>\n",
       "      <td>0.141241</td>\n",
       "      <td>0.714357</td>\n",
       "    </tr>\n",
       "    <tr>\n",
       "      <th>233</th>\n",
       "      <td>0.773239</td>\n",
       "      <td>0.768946</td>\n",
       "      <td>0.817427</td>\n",
       "      <td>0.791886</td>\n",
       "      <td>0.193445</td>\n",
       "      <td>0.727452</td>\n",
       "    </tr>\n",
       "    <tr>\n",
       "      <th>234</th>\n",
       "      <td>0.791388</td>\n",
       "      <td>0.792780</td>\n",
       "      <td>0.820598</td>\n",
       "      <td>0.798658</td>\n",
       "      <td>0.152976</td>\n",
       "      <td>0.714482</td>\n",
       "    </tr>\n",
       "    <tr>\n",
       "      <th>235</th>\n",
       "      <td>0.783880</td>\n",
       "      <td>0.765806</td>\n",
       "      <td>0.800393</td>\n",
       "      <td>0.772930</td>\n",
       "      <td>0.181589</td>\n",
       "      <td>0.704313</td>\n",
       "    </tr>\n",
       "    <tr>\n",
       "      <th>236</th>\n",
       "      <td>0.797835</td>\n",
       "      <td>0.779913</td>\n",
       "      <td>0.811956</td>\n",
       "      <td>0.753644</td>\n",
       "      <td>0.137576</td>\n",
       "      <td>0.658301</td>\n",
       "    </tr>\n",
       "    <tr>\n",
       "      <th>237</th>\n",
       "      <td>0.746380</td>\n",
       "      <td>0.772266</td>\n",
       "      <td>0.779664</td>\n",
       "      <td>0.790612</td>\n",
       "      <td>0.158376</td>\n",
       "      <td>0.710301</td>\n",
       "    </tr>\n",
       "    <tr>\n",
       "      <th>238</th>\n",
       "      <td>0.796866</td>\n",
       "      <td>0.820271</td>\n",
       "      <td>0.836318</td>\n",
       "      <td>0.799647</td>\n",
       "      <td>0.183731</td>\n",
       "      <td>0.707989</td>\n",
       "    </tr>\n",
       "    <tr>\n",
       "      <th>239</th>\n",
       "      <td>0.829243</td>\n",
       "      <td>0.837794</td>\n",
       "      <td>0.880854</td>\n",
       "      <td>0.847343</td>\n",
       "      <td>0.150593</td>\n",
       "      <td>0.755703</td>\n",
       "    </tr>\n",
       "    <tr>\n",
       "      <th>240</th>\n",
       "      <td>0.858464</td>\n",
       "      <td>0.845223</td>\n",
       "      <td>0.881245</td>\n",
       "      <td>0.850158</td>\n",
       "      <td>0.102085</td>\n",
       "      <td>0.745039</td>\n",
       "    </tr>\n",
       "    <tr>\n",
       "      <th>241</th>\n",
       "      <td>0.852355</td>\n",
       "      <td>0.835058</td>\n",
       "      <td>0.868970</td>\n",
       "      <td>0.820143</td>\n",
       "      <td>0.104483</td>\n",
       "      <td>0.711822</td>\n",
       "    </tr>\n",
       "    <tr>\n",
       "      <th>242</th>\n",
       "      <td>0.826605</td>\n",
       "      <td>0.885761</td>\n",
       "      <td>0.883808</td>\n",
       "      <td>0.880088</td>\n",
       "      <td>0.123744</td>\n",
       "      <td>0.764581</td>\n",
       "    </tr>\n",
       "    <tr>\n",
       "      <th>243</th>\n",
       "      <td>0.898831</td>\n",
       "      <td>0.941882</td>\n",
       "      <td>0.949987</td>\n",
       "      <td>0.931587</td>\n",
       "      <td>0.136309</td>\n",
       "      <td>0.813241</td>\n",
       "    </tr>\n",
       "    <tr>\n",
       "      <th>244</th>\n",
       "      <td>0.977855</td>\n",
       "      <td>1.030825</td>\n",
       "      <td>1.027194</td>\n",
       "      <td>1.013060</td>\n",
       "      <td>0.150110</td>\n",
       "      <td>0.882136</td>\n",
       "    </tr>\n",
       "    <tr>\n",
       "      <th>245</th>\n",
       "      <td>1.048452</td>\n",
       "      <td>1.058174</td>\n",
       "      <td>1.079276</td>\n",
       "      <td>1.041118</td>\n",
       "      <td>0.749133</td>\n",
       "      <td>1.119511</td>\n",
       "    </tr>\n",
       "    <tr>\n",
       "      <th>246</th>\n",
       "      <td>1.041285</td>\n",
       "      <td>1.035576</td>\n",
       "      <td>1.036670</td>\n",
       "      <td>0.982273</td>\n",
       "      <td>0.141618</td>\n",
       "      <td>0.841177</td>\n",
       "    </tr>\n",
       "    <tr>\n",
       "      <th>247</th>\n",
       "      <td>1.005904</td>\n",
       "      <td>1.006922</td>\n",
       "      <td>1.013019</td>\n",
       "      <td>0.959624</td>\n",
       "      <td>0.110335</td>\n",
       "      <td>0.816208</td>\n",
       "    </tr>\n",
       "    <tr>\n",
       "      <th>248</th>\n",
       "      <td>0.983816</td>\n",
       "      <td>0.995947</td>\n",
       "      <td>0.972176</td>\n",
       "      <td>0.924945</td>\n",
       "      <td>0.153338</td>\n",
       "      <td>0.784210</td>\n",
       "    </tr>\n",
       "    <tr>\n",
       "      <th>249</th>\n",
       "      <td>0.943344</td>\n",
       "      <td>0.977218</td>\n",
       "      <td>0.982079</td>\n",
       "      <td>0.942669</td>\n",
       "      <td>0.098630</td>\n",
       "      <td>0.799831</td>\n",
       "    </tr>\n",
       "  </tbody>\n",
       "</table>\n",
       "</div>"
      ]
     },
     "execution_count": 43,
     "metadata": {},
     "output_type": "execute_result"
    }
   ],
   "source": [
    "Xy_test1"
   ]
  },
  {
   "cell_type": "code",
   "execution_count": 45,
   "metadata": {
    "collapsed": false
   },
   "outputs": [
    {
     "data": {
      "text/plain": [
       "279.552073424338"
      ]
     },
     "execution_count": 45,
     "metadata": {},
     "output_type": "execute_result"
    }
   ],
   "source": [
    "np.sum(usd_err1) / usd_err1.shape[0]"
   ]
  },
  {
   "cell_type": "code",
   "execution_count": 46,
   "metadata": {},
   "outputs": [
    {
     "data": {
      "text/plain": [
       "181.4622027943276"
      ]
     },
     "execution_count": 46,
     "metadata": {},
     "output_type": "execute_result"
    }
   ],
   "source": [
    "np.sum(usd_err2) / usd_err2.shape[0]"
   ]
  },
  {
   "cell_type": "code",
   "execution_count": null,
   "metadata": {},
   "outputs": [],
   "source": []
  }
 ],
 "metadata": {
  "kernelspec": {
   "display_name": "Python 3",
   "language": "python",
   "name": "python3"
  },
  "language_info": {
   "codemirror_mode": {
    "name": "ipython",
    "version": 3
   },
   "file_extension": ".py",
   "mimetype": "text/x-python",
   "name": "python",
   "nbconvert_exporter": "python",
   "pygments_lexer": "ipython3",
   "version": "3.6.7"
  }
 },
 "nbformat": 4,
 "nbformat_minor": 2
}
